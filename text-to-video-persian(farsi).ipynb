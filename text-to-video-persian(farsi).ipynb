{
 "cells": [
  {
   "cell_type": "code",
   "execution_count": 5,
   "id": "f1664d50-22d4-4499-a77b-f32852433e23",
   "metadata": {},
   "outputs": [],
   "source": [
    "import tkinter as tk\n",
    "from tkinter import messagebox\n",
    "import openai\n",
    "\n",
    "# تعریف کلید API و مدل\n",
    "API_KEY = \"81793d4f-300c-4ca9-b143-97f263c5d3e0\"\n",
    "openai.api_key = API_KEY\n",
    "\n",
    "model = \"meta-llama/llama-3.1-8b-instruct\"\n",
    "max_tokens = 512\n",
    "\n",
    "def generate_video():\n",
    "    user_input = text_entry.get(\"1.0\", tk.END).strip()\n",
    "    if not user_input:\n",
    "        messagebox.showwarning(\"Warning\", \"Please enter some text.\")\n",
    "        return\n",
    "    \n",
    "    try:\n",
    "        chat_completion_res = openai.ChatCompletion.create(\n",
    "            model=model,\n",
    "            messages=[\n",
    "                {\n",
    "                    \"role\": \"system\",\n",
    "                    \"content\": \"Act like you are a helpful assistant.\",\n",
    "                },\n",
    "                {\n",
    "                    \"role\": \"user\",\n",
    "                    \"content\": user_input,\n",
    "                }\n",
    "            ],\n",
    "            max_tokens=max_tokens,\n",
    "        )\n",
    "        \n",
    "        # نمایش نتیجه\n",
    "        result = chat_completion_res['choices'][0]['message']['content']\n",
    "        messagebox.showinfo(\"Generated Video Script\", result)\n",
    "\n",
    "    except Exception as e:\n",
    "        messagebox.showerror(\"Error\", f\"An error occurred: {e}\")\n",
    "\n",
    "# ایجاد پنجره اصلی\n",
    "root = tk.Tk()\n",
    "root.title(\"Text to Video Converter\")\n",
    "\n",
    "# ایجاد و قرار دادن ویجت‌های رابط کاربری\n",
    "text_label = tk.Label(root, text=\"Enter your text:\")\n",
    "text_label.pack(pady=10)\n",
    "\n",
    "text_entry = tk.Text(root, height=10, width=50)\n",
    "text_entry.pack(pady=10)\n",
    "\n",
    "generate_button = tk.Button(root, text=\"Generate Video\", command=generate_video)\n",
    "generate_button.pack(pady=20)\n",
    "\n",
    "# شروع حلقه اصلی\n",
    "root.mainloop()\n"
   ]
  },
  {
   "cell_type": "code",
   "execution_count": null,
   "id": "b5094575-f90a-40f8-9356-bc8ae2515039",
   "metadata": {},
   "outputs": [],
   "source": []
  }
 ],
 "metadata": {
  "kernelspec": {
   "display_name": "Python 3 (ipykernel)",
   "language": "python",
   "name": "python3"
  },
  "language_info": {
   "codemirror_mode": {
    "name": "ipython",
    "version": 3
   },
   "file_extension": ".py",
   "mimetype": "text/x-python",
   "name": "python",
   "nbconvert_exporter": "python",
   "pygments_lexer": "ipython3",
   "version": "3.11.7"
  }
 },
 "nbformat": 4,
 "nbformat_minor": 5
}
